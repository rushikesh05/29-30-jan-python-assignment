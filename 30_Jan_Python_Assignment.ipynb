{
  "nbformat": 4,
  "nbformat_minor": 0,
  "metadata": {
    "colab": {
      "provenance": []
    },
    "kernelspec": {
      "name": "python3",
      "display_name": "Python 3"
    },
    "language_info": {
      "name": "python"
    }
  },
  "cells": [
    {
      "cell_type": "markdown",
      "source": [
        "#1 Write a program to accept percentage from the user and display the grade according to the following criteria: "
      ],
      "metadata": {
        "id": "UGBVSPG_do1u"
      }
    },
    {
      "cell_type": "code",
      "execution_count": 9,
      "metadata": {
        "colab": {
          "base_uri": "https://localhost:8080/"
        },
        "id": "2sX6URGqdk52",
        "outputId": "99174edf-e0c8-45b1-d529-647c349aaea8"
      },
      "outputs": [
        {
          "output_type": "stream",
          "name": "stdout",
          "text": [
            "Enter the percentage: 1\n",
            "Grade: D\n"
          ]
        }
      ],
      "source": [
        "percentage = float(input(\"Enter the percentage: \"))\n",
        "\n",
        "if percentage > 90:\n",
        "    print(\"Grade: A\")\n",
        "elif percentage > 80 and percentage<=90:\n",
        "    print(\"Grade: B\")\n",
        "elif percentage >= 60 and percentage<=80:\n",
        "    print(\"Grade: C\")\n",
        "elif percentage < 60:\n",
        "    print(\"Grade: D\")\n",
        "\n"
      ]
    },
    {
      "cell_type": "markdown",
      "source": [
        "#2.  Write a program to accept the cost price of a bike and display the road tax to be paid according to the following criteria:"
      ],
      "metadata": {
        "id": "h1-nA2MofFzZ"
      }
    },
    {
      "cell_type": "code",
      "source": [
        "cost_price = float(input(\"Enter the cost price of the bike: \"))\n",
        "\n",
        "if cost_price <= 50000:\n",
        "    road_tax = cost_price * 0.05\n",
        "elif cost_price >50000 and cost_price<= 100000:\n",
        "    road_tax = cost_price * 0.1\n",
        "elif cost_price >100000:\n",
        "    road_tax = cost_price * 0.15\n",
        "\n",
        "print(\"Road tax to be paid: Rs.\", road_tax)\n"
      ],
      "metadata": {
        "colab": {
          "base_uri": "https://localhost:8080/"
        },
        "id": "1b58vFADeZnI",
        "outputId": "1a0f61dc-26ea-463e-d353-6e614ce3655d"
      },
      "execution_count": 13,
      "outputs": [
        {
          "output_type": "stream",
          "name": "stdout",
          "text": [
            "Enter the cost price of the bike: 50000\n",
            "Road tax to be paid: Rs. 2500.0\n"
          ]
        }
      ]
    },
    {
      "cell_type": "markdown",
      "source": [
        "#3. Accept any city from the user and display monuments of that city."
      ],
      "metadata": {
        "id": "DaUOGkpagaYO"
      }
    },
    {
      "cell_type": "code",
      "source": [
        "city = input(\"Enter a city: \")\n",
        "\n",
        "monuments = {}\n",
        "\n",
        "if city == \"Delhi\":\n",
        "    monuments = {\"Red Fort\"}\n",
        "elif city == \"Agra\":\n",
        "    monuments = {\"Taj Mahal\"}\n",
        "elif city == \"Jaipur\":\n",
        "    monuments = { \"Jal Mahal\"}\n",
        "\n",
        "if monuments:\n",
        "    print(f\"The following monuments are in {city}:\")\n",
        "    for monument in monuments:\n",
        "        print(\"   ----->    \" + monument)\n",
        "else:\n",
        "    print(f\"Sorry, we do not have a list of monuments for {city}.\")\n"
      ],
      "metadata": {
        "colab": {
          "base_uri": "https://localhost:8080/"
        },
        "id": "sE_PqlHngAK-",
        "outputId": "b17a2300-18b4-4e62-e280-ad43cd1cab7a"
      },
      "execution_count": 18,
      "outputs": [
        {
          "output_type": "stream",
          "name": "stdout",
          "text": [
            "Enter a city: Delhi\n",
            "The following monuments are in Delhi:\n",
            "   ----->    Red Fort\n"
          ]
        }
      ]
    },
    {
      "cell_type": "markdown",
      "source": [
        "#4. Check how many times a given number can be divided by 3 before it is less than or equal to 10. "
      ],
      "metadata": {
        "id": "n1HqZeEfheFy"
      }
    },
    {
      "cell_type": "code",
      "source": [
        "num = int(input(\"Enter a number: \"))\n",
        "\n",
        "count = 0\n",
        "\n",
        "while num > 10:\n",
        "    num /= 3\n",
        "    count += 1\n",
        "    \n",
        "print(f\"The number can be divided by 3 {count} times before it is less than or equal to 10.\")\n"
      ],
      "metadata": {
        "colab": {
          "base_uri": "https://localhost:8080/"
        },
        "id": "a42WlXcxkNF9",
        "outputId": "88cb1623-e75c-4979-cf4d-268238dd3cf7"
      },
      "execution_count": 77,
      "outputs": [
        {
          "output_type": "stream",
          "name": "stdout",
          "text": [
            "Enter a number: 150\n",
            "The number can be divided by 3 3 times before it is less than or equal to 10.\n"
          ]
        }
      ]
    },
    {
      "cell_type": "markdown",
      "source": [
        "#5. Why and When to Use while Loop in Python give a detailed description with example \n"
      ],
      "metadata": {
        "id": "Af5CW79Wr4f3"
      }
    },
    {
      "cell_type": "markdown",
      "source": [
        "###The while loop is a fundamental control flow statement in Python that allows a block of code to be executed repeatedly as long as a particular condition is true. A while loop is useful when you don't know how many times a block of code should be executed before the loop starts, and you want to keep executing it until a certain condition is met.\n",
        "\n",
        "###Here's an example to demonstrate how to use a while loop in Python:\n",
        "\n"
      ],
      "metadata": {
        "id": "l9ratMX0vbaV"
      }
    },
    {
      "cell_type": "code",
      "source": [
        "num = 0\n",
        "sum = 0\n",
        "\n",
        "while num <= 10:\n",
        "    sum += num\n",
        "    num += 1\n",
        "\n",
        "print(\"The sum of the first 10 numbers is:\", sum)\n"
      ],
      "metadata": {
        "colab": {
          "base_uri": "https://localhost:8080/"
        },
        "id": "riP2wai3qP5z",
        "outputId": "beef7801-9b3d-43f9-d897-234ff3c8f4be"
      },
      "execution_count": 79,
      "outputs": [
        {
          "output_type": "stream",
          "name": "stdout",
          "text": [
            "The sum of the first 10 numbers is: 55\n"
          ]
        }
      ]
    },
    {
      "cell_type": "markdown",
      "source": [
        "#6. Use nested while loop to print 3 different pattern. "
      ],
      "metadata": {
        "id": "tSlydaV6w9iO"
      }
    },
    {
      "cell_type": "code",
      "source": [
        "## Pattern 1\n",
        "i = 1\n",
        "while i <= 5:\n",
        "    j = 1\n",
        "    while j <= i:\n",
        "        print(\"* \", end=\"\")\n",
        "        j += 1\n",
        "    print()\n",
        "    i += 1\n"
      ],
      "metadata": {
        "colab": {
          "base_uri": "https://localhost:8080/"
        },
        "id": "FHMeadaTvq-J",
        "outputId": "f741b5ce-99f2-4491-9e01-469383ddb7de"
      },
      "execution_count": 83,
      "outputs": [
        {
          "output_type": "stream",
          "name": "stdout",
          "text": [
            "* \n",
            "* * \n",
            "* * * \n",
            "* * * * \n",
            "* * * * * \n"
          ]
        }
      ]
    },
    {
      "cell_type": "code",
      "source": [
        "# Pattern 2\n",
        "i = 5\n",
        "while i >= 1:\n",
        "    j = 1\n",
        "    while j <= i:\n",
        "        print(\"*\", end=\"\")\n",
        "        j += 1\n",
        "    print()\n",
        "    i -= 1\n"
      ],
      "metadata": {
        "colab": {
          "base_uri": "https://localhost:8080/"
        },
        "id": "Q78nVelrxEko",
        "outputId": "08c447c1-be1d-4f21-8b7d-b66a4011fe2a"
      },
      "execution_count": 84,
      "outputs": [
        {
          "output_type": "stream",
          "name": "stdout",
          "text": [
            "*****\n",
            "****\n",
            "***\n",
            "**\n",
            "*\n"
          ]
        }
      ]
    },
    {
      "cell_type": "code",
      "source": [
        "# Pattern 3\n",
        "\n",
        "i = 1\n",
        "while i <= 4:\n",
        "    j = 1\n",
        "    while j <= 5:\n",
        "        print(\"*\", end=\"\")\n",
        "        j += 1\n",
        "    print()\n",
        "    i += 1\n"
      ],
      "metadata": {
        "colab": {
          "base_uri": "https://localhost:8080/"
        },
        "id": "k7XHuQijxXE8",
        "outputId": "b63387fc-4458-4144-f4f0-a086906fe0b7"
      },
      "execution_count": 86,
      "outputs": [
        {
          "output_type": "stream",
          "name": "stdout",
          "text": [
            "*****\n",
            "*****\n",
            "*****\n",
            "*****\n"
          ]
        }
      ]
    },
    {
      "cell_type": "markdown",
      "source": [
        "#7. Reverse a while loop to display numbers from 10 to 1. "
      ],
      "metadata": {
        "id": "zRyhWBg7xkHF"
      }
    },
    {
      "cell_type": "code",
      "source": [
        "i = 10\n",
        "while i >= 1:\n",
        "    print(i)\n",
        "    i -= 1\n"
      ],
      "metadata": {
        "colab": {
          "base_uri": "https://localhost:8080/"
        },
        "id": "gjpzcIRAxczN",
        "outputId": "52d300bd-55cb-46e7-e1e8-04e85a28a2a0"
      },
      "execution_count": 87,
      "outputs": [
        {
          "output_type": "stream",
          "name": "stdout",
          "text": [
            "10\n",
            "9\n",
            "8\n",
            "7\n",
            "6\n",
            "5\n",
            "4\n",
            "3\n",
            "2\n",
            "1\n"
          ]
        }
      ]
    },
    {
      "cell_type": "code",
      "source": [],
      "metadata": {
        "id": "FXYQeCkux5q1"
      },
      "execution_count": null,
      "outputs": []
    }
  ]
}